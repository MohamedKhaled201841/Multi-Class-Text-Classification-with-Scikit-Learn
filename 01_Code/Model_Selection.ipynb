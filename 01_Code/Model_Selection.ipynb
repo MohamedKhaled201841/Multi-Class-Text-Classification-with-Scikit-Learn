{
  "nbformat": 4,
  "nbformat_minor": 0,
  "metadata": {
    "colab": {
      "name": "Model Selection.ipynb",
      "provenance": []
    },
    "kernelspec": {
      "name": "python3",
      "display_name": "Python 3"
    },
    "language_info": {
      "name": "python"
    }
  },
  "cells": [
    {
      "cell_type": "markdown",
      "metadata": {
        "id": "o1U0Y_IzF9VN"
      },
      "source": [
        "#some imports"
      ]
    },
    {
      "cell_type": "code",
      "metadata": {
        "id": "i_XSIJ7s-Wzk"
      },
      "source": [
        "%matplotlib inline\n",
        "import numpy as np\n",
        "import matplotlib.pyplot as plt\n",
        "import seaborn as sns; sns.set()\n",
        "import pandas as pd"
      ],
      "execution_count": 1,
      "outputs": []
    },
    {
      "cell_type": "markdown",
      "metadata": {
        "id": "RHAvo-D4GBta"
      },
      "source": [
        "#read data and clean it"
      ]
    },
    {
      "cell_type": "code",
      "metadata": {
        "colab": {
          "base_uri": "https://localhost:8080/",
          "height": 204
        },
        "id": "0q1bIW8n-bAX",
        "outputId": "6debfa24-79e9-463c-d83f-f0e73584f976"
      },
      "source": [
        "path=\"/content/sample_data/Job titles and industries.csv\"\n",
        "data = pd.read_csv(path)\n",
        "data.drop_duplicates(inplace=True)\n",
        "data = data.rename(columns={'job title': 'job_title'})\n",
        "data.head()"
      ],
      "execution_count": 2,
      "outputs": [
        {
          "output_type": "execute_result",
          "data": {
            "text/html": [
              "<div>\n",
              "<style scoped>\n",
              "    .dataframe tbody tr th:only-of-type {\n",
              "        vertical-align: middle;\n",
              "    }\n",
              "\n",
              "    .dataframe tbody tr th {\n",
              "        vertical-align: top;\n",
              "    }\n",
              "\n",
              "    .dataframe thead th {\n",
              "        text-align: right;\n",
              "    }\n",
              "</style>\n",
              "<table border=\"1\" class=\"dataframe\">\n",
              "  <thead>\n",
              "    <tr style=\"text-align: right;\">\n",
              "      <th></th>\n",
              "      <th>job_title</th>\n",
              "      <th>industry</th>\n",
              "    </tr>\n",
              "  </thead>\n",
              "  <tbody>\n",
              "    <tr>\n",
              "      <th>0</th>\n",
              "      <td>technical support and helpdesk supervisor - co...</td>\n",
              "      <td>IT</td>\n",
              "    </tr>\n",
              "    <tr>\n",
              "      <th>1</th>\n",
              "      <td>senior technical support engineer</td>\n",
              "      <td>IT</td>\n",
              "    </tr>\n",
              "    <tr>\n",
              "      <th>2</th>\n",
              "      <td>head of it services</td>\n",
              "      <td>IT</td>\n",
              "    </tr>\n",
              "    <tr>\n",
              "      <th>3</th>\n",
              "      <td>js front end engineer</td>\n",
              "      <td>IT</td>\n",
              "    </tr>\n",
              "    <tr>\n",
              "      <th>4</th>\n",
              "      <td>network and telephony controller</td>\n",
              "      <td>IT</td>\n",
              "    </tr>\n",
              "  </tbody>\n",
              "</table>\n",
              "</div>"
            ],
            "text/plain": [
              "                                           job_title industry\n",
              "0  technical support and helpdesk supervisor - co...       IT\n",
              "1                  senior technical support engineer       IT\n",
              "2                                head of it services       IT\n",
              "3                              js front end engineer       IT\n",
              "4                   network and telephony controller       IT"
            ]
          },
          "metadata": {},
          "execution_count": 2
        }
      ]
    },
    {
      "cell_type": "markdown",
      "metadata": {
        "id": "lEbnYkQtGF_-"
      },
      "source": [
        "# plot indusdry count"
      ]
    },
    {
      "cell_type": "code",
      "metadata": {
        "colab": {
          "base_uri": "https://localhost:8080/",
          "height": 457
        },
        "id": "Shi0CehI-g6t",
        "outputId": "ff5f5fda-b7b8-4331-ed3c-5daa564b05ab"
      },
      "source": [
        "fig = plt.figure(figsize=(8,6))\n",
        "data.groupby('industry').job_title.count().plot.bar(ylim=0)\n",
        "plt.show()"
      ],
      "execution_count": 3,
      "outputs": [
        {
          "output_type": "display_data",
          "data": {
            "image/png": "[encoded data removed]",
            "text/plain": [
              "<Figure size 576x432 with 1 Axes>"
            ]
          },
          "metadata": {
            "needs_background": "light"
          }
        }
      ]
    },
    {
      "cell_type": "markdown",
      "metadata": {
        "id": "8_3phj4bGLzR"
      },
      "source": [
        "# suffle the data"
      ]
    },
    {
      "cell_type": "code",
      "metadata": {
        "id": "dytG5IKA-3dx"
      },
      "source": [
        "from sklearn.utils import shuffle,resample\n",
        "data = shuffle(data,random_state=42)\n",
        "x=data.job_title\n",
        "y=data.industry"
      ],
      "execution_count": 4,
      "outputs": []
    },
    {
      "cell_type": "markdown",
      "metadata": {
        "id": "_ON1qMKaG03q"
      },
      "source": [
        "#add a column encoding the industry as an integer because categorical variables are often better represented by integers than strings."
      ]
    },
    {
      "cell_type": "code",
      "metadata": {
        "id": "_eadRYMoFVYH"
      },
      "source": [
        "from io import StringIO\n",
        "col = ['job_title','industry']\n",
        "data = data[col]\n",
        "data['category_id'] = data['industry'].factorize()[0]\n",
        "category_id_data = data[['industry', 'category_id']].drop_duplicates().sort_values('category_id')\n",
        "category_to_id = dict(category_id_data.values)\n",
        "id_to_category = dict(category_id_data[['category_id', 'industry']].values)\n",
        "\n"
      ],
      "execution_count": 5,
      "outputs": []
    },
    {
      "cell_type": "markdown",
      "metadata": {
        "id": "ZlVI576hHFFI"
      },
      "source": [
        "# measure Term Frequency, Inverse Document Frequency"
      ]
    },
    {
      "cell_type": "code",
      "metadata": {
        "colab": {
          "base_uri": "https://localhost:8080/"
        },
        "id": "ohJBPjpB_G31",
        "outputId": "4793a06e-a2fa-4a57-d2df-b59d35063d3b"
      },
      "source": [
        "from sklearn.feature_extraction.text import TfidfVectorizer\n",
        "tfidf = TfidfVectorizer()\n",
        "features = tfidf.fit_transform(data.job_title).toarray()\n",
        "labels = data.industry\n",
        "features.shape"
      ],
      "execution_count": 6,
      "outputs": [
        {
          "output_type": "execute_result",
          "data": {
            "text/plain": [
              "(3968, 2045)"
            ]
          },
          "metadata": {},
          "execution_count": 6
        }
      ]
    },
    {
      "cell_type": "markdown",
      "metadata": {
        "id": "ZyWrrIKtHtZA"
      },
      "source": [
        "#Model Selection\n",
        "# benchmark the following four models:\n",
        "\n",
        "\n",
        "*   Logistic Regression\n",
        "*   (Multinomial) Naive Bayes\n",
        "\n",
        "*  Linear Support Vector Machine\n",
        "*   Random Forest\n",
        "\n",
        "\n",
        "\n",
        "\n",
        "\n",
        "\n"
      ]
    },
    {
      "cell_type": "code",
      "metadata": {
        "id": "KM7o2fGY_N2h"
      },
      "source": [
        "from sklearn.linear_model import LogisticRegression\n",
        "from sklearn.ensemble import RandomForestClassifier\n",
        "from sklearn.svm import LinearSVC\n",
        "from sklearn.naive_bayes import MultinomialNB\n",
        "from sklearn.model_selection import cross_val_score\n",
        "models = [\n",
        "    RandomForestClassifier(n_estimators=200, max_depth=3, random_state=0),\n",
        "    LinearSVC(random_state=42,class_weight='balanced'),\n",
        "    MultinomialNB(),\n",
        "    LogisticRegression(random_state=42,class_weight='balanced'),\n",
        "]\n",
        "CV = 5\n",
        "cv_df = pd.DataFrame(index=range(CV * len(models)))\n",
        "entries = []\n",
        "for model in models:\n",
        "  model_name = model.__class__.__name__\n",
        "  accuracies = cross_val_score(model, features, labels, scoring='accuracy', cv=CV)\n",
        "  for fold_idx, accuracy in enumerate(accuracies):\n",
        "    entries.append((model_name, fold_idx, accuracy))\n",
        "cv_df = pd.DataFrame(entries, columns=['model_name', 'fold_idx', 'accuracy'])\n",
        "\n"
      ],
      "execution_count": 7,
      "outputs": []
    },
    {
      "cell_type": "markdown",
      "metadata": {
        "id": "vBo-DO5EIG_Q"
      },
      "source": [
        "#plot cross validation accuracy"
      ]
    },
    {
      "cell_type": "code",
      "metadata": {
        "colab": {
          "base_uri": "https://localhost:8080/",
          "height": 394
        },
        "id": "nOyXM9-YI8tS",
        "outputId": "d09c7266-3b84-4bc5-c597-4c626d7b4b7f"
      },
      "source": [
        "import seaborn as sns\n",
        "fig, ax = plt.subplots(figsize=(12,6))\n",
        "sns.boxplot(x='model_name', y='accuracy', data=cv_df)\n",
        "sns.stripplot(x='model_name', y='accuracy', data=cv_df, \n",
        "              size=8, jitter=True, edgecolor=\"gray\", linewidth=2)\n",
        "plt.show()"
      ],
      "execution_count": 8,
      "outputs": [
        {
          "output_type": "display_data",
          "data": {
            "image/png": "[encoded data removed]",
            "text/plain": [
              "<Figure size 864x432 with 1 Axes>"
            ]
          },
          "metadata": {
            "needs_background": "light"
          }
        }
      ]
    },
    {
      "cell_type": "code",
      "metadata": {
        "colab": {
          "base_uri": "https://localhost:8080/"
        },
        "id": "tcvdZMHaGZlb",
        "outputId": "d125e3a4-441e-411f-a7de-4289916812ae"
      },
      "source": [
        "cv_df.groupby('model_name').accuracy.mean()"
      ],
      "execution_count": 9,
      "outputs": [
        {
          "output_type": "execute_result",
          "data": {
            "text/plain": [
              "model_name\n",
              "LinearSVC                 0.888858\n",
              "LogisticRegression        0.885329\n",
              "MultinomialNB             0.858871\n",
              "RandomForestClassifier    0.555442\n",
              "Name: accuracy, dtype: float64"
            ]
          },
          "metadata": {},
          "execution_count": 9
        }
      ]
    },
    {
      "cell_type": "markdown",
      "metadata": {
        "id": "ftHJsKBvJWbz"
      },
      "source": [
        "# we see according to accuarcy Linear SVC is the best one so  we choose it "
      ]
    },
    {
      "cell_type": "code",
      "metadata": {
        "id": "8kto3ISVHv7f"
      },
      "source": [
        ""
      ],
      "execution_count": 9,
      "outputs": []
    }
  ]
}