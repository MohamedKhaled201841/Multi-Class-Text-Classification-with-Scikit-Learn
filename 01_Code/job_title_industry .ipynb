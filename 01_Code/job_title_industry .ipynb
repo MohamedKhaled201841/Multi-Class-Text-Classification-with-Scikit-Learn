{
  "nbformat": 4,
  "nbformat_minor": 0,
  "metadata": {
    "colab": {
      "name": "job_title_industry.ipynb",
      "provenance": []
    },
    "kernelspec": {
      "name": "python3",
      "display_name": "Python 3"
    },
    "language_info": {
      "name": "python"
    }
  },
  "cells": [
    {
      "cell_type": "markdown",
      "metadata": {
        "id": "xAdjdiSvCEFp"
      },
      "source": [
        "#some imports\n"
      ]
    },
    {
      "cell_type": "code",
      "metadata": {
        "id": "lMQLYFEsQVZK"
      },
      "source": [
        "%matplotlib inline\n",
        "import numpy as np\n",
        "import matplotlib.pyplot as plt\n",
        "import seaborn as sns; sns.set()\n",
        "import pandas as pd"
      ],
      "execution_count": 1,
      "outputs": []
    },
    {
      "cell_type": "markdown",
      "metadata": {
        "id": "SbiIq56SCJWA"
      },
      "source": [
        "#cleaning data and remove duplicates"
      ]
    },
    {
      "cell_type": "code",
      "metadata": {
        "colab": {
          "base_uri": "https://localhost:8080/",
          "height": 238
        },
        "id": "2XgzELTrQ0JD",
        "outputId": "71176fb4-6ead-4881-c45a-80af08c38753"
      },
      "source": [
        "path=\"/content/sample_data/Job titles and industries.csv\"\n",
        "data = pd.read_csv(path)\n",
        "print(\"The duplicated data = \",data.duplicated().sum())\n",
        "data.drop_duplicates(inplace=True)\n",
        "print(\"The duplicated data = \",data.duplicated().sum())\n",
        "data = data.rename(columns={'job title': 'job_title'})\n",
        "data.head()\n"
      ],
      "execution_count": 2,
      "outputs": [
        {
          "output_type": "stream",
          "name": "stdout",
          "text": [
            "The duplicated data =  4618\n",
            "The duplicated data =  0\n"
          ]
        },
        {
          "output_type": "execute_result",
          "data": {
            "text/html": [
              "<div>\n",
              "<style scoped>\n",
              "    .dataframe tbody tr th:only-of-type {\n",
              "        vertical-align: middle;\n",
              "    }\n",
              "\n",
              "    .dataframe tbody tr th {\n",
              "        vertical-align: top;\n",
              "    }\n",
              "\n",
              "    .dataframe thead th {\n",
              "        text-align: right;\n",
              "    }\n",
              "</style>\n",
              "<table border=\"1\" class=\"dataframe\">\n",
              "  <thead>\n",
              "    <tr style=\"text-align: right;\">\n",
              "      <th></th>\n",
              "      <th>job_title</th>\n",
              "      <th>industry</th>\n",
              "    </tr>\n",
              "  </thead>\n",
              "  <tbody>\n",
              "    <tr>\n",
              "      <th>0</th>\n",
              "      <td>technical support and helpdesk supervisor - co...</td>\n",
              "      <td>IT</td>\n",
              "    </tr>\n",
              "    <tr>\n",
              "      <th>1</th>\n",
              "      <td>senior technical support engineer</td>\n",
              "      <td>IT</td>\n",
              "    </tr>\n",
              "    <tr>\n",
              "      <th>2</th>\n",
              "      <td>head of it services</td>\n",
              "      <td>IT</td>\n",
              "    </tr>\n",
              "    <tr>\n",
              "      <th>3</th>\n",
              "      <td>js front end engineer</td>\n",
              "      <td>IT</td>\n",
              "    </tr>\n",
              "    <tr>\n",
              "      <th>4</th>\n",
              "      <td>network and telephony controller</td>\n",
              "      <td>IT</td>\n",
              "    </tr>\n",
              "  </tbody>\n",
              "</table>\n",
              "</div>"
            ],
            "text/plain": [
              "                                           job_title industry\n",
              "0  technical support and helpdesk supervisor - co...       IT\n",
              "1                  senior technical support engineer       IT\n",
              "2                                head of it services       IT\n",
              "3                              js front end engineer       IT\n",
              "4                   network and telephony controller       IT"
            ]
          },
          "metadata": {},
          "execution_count": 2
        }
      ]
    },
    {
      "cell_type": "markdown",
      "metadata": {
        "id": "U2tTcCh2CQzt"
      },
      "source": [
        "# plot industry counts after drop duplicates"
      ]
    },
    {
      "cell_type": "code",
      "metadata": {
        "colab": {
          "base_uri": "https://localhost:8080/",
          "height": 559
        },
        "id": "NSzDSsMORLUQ",
        "outputId": "3c4ec39d-8b66-4a25-a9b7-bc2d447b34b5"
      },
      "source": [
        "print(\"The classes after dropping the duplicated data: \\n\",data.industry.value_counts())\n",
        "fig = plt.figure(figsize=(8,6))\n",
        "data.groupby('industry').job_title.count().plot.bar(ylim=0)\n",
        "plt.show()"
      ],
      "execution_count": 3,
      "outputs": [
        {
          "output_type": "stream",
          "name": "stdout",
          "text": [
            "The classes after dropping the duplicated data: \n",
            " IT             1529\n",
            "Marketing      1203\n",
            "Education       973\n",
            "Accountancy     263\n",
            "Name: industry, dtype: int64\n"
          ]
        },
        {
          "output_type": "display_data",
          "data": {
            "image/png": "[encoded data removed]",
            "text/plain": [
              "<Figure size 576x432 with 1 Axes>"
            ]
          },
          "metadata": {
            "needs_background": "light"
          }
        }
      ]
    },
    {
      "cell_type": "markdown",
      "metadata": {
        "id": "CTi46_q0D1W6"
      },
      "source": [
        "# Suffle the data \n",
        "\n",
        "\n"
      ]
    },
    {
      "cell_type": "code",
      "metadata": {
        "id": "jGALQEJdZnaN"
      },
      "source": [
        "from sklearn.utils import shuffle\n",
        "data = shuffle(data,random_state=42)\n",
        "x=data.job_title\n",
        "y=data.industry\n"
      ],
      "execution_count": 4,
      "outputs": []
    },
    {
      "cell_type": "markdown",
      "metadata": {
        "id": "_YQdw65dEbpc"
      },
      "source": [
        "# Split the data"
      ]
    },
    {
      "cell_type": "code",
      "metadata": {
        "colab": {
          "base_uri": "https://localhost:8080/"
        },
        "id": "3NLON8HCSZ-1",
        "outputId": "5fb853b1-480d-4bfc-8bd0-f886f853b685"
      },
      "source": [
        "from sklearn.model_selection import train_test_split\n",
        "from sklearn.feature_extraction.text import TfidfVectorizer\n",
        "from sklearn.naive_bayes import MultinomialNB\n",
        "from sklearn.pipeline import make_pipeline\n",
        "from sklearn import metrics\n",
        "categories = ['Accountancy','Education','IT','Marketing']\n",
        "X_train, X_test, y_train, y_test = train_test_split(x, y, test_size=0.2, random_state=42)\n",
        "y_test.value_counts()\n",
        "\n"
      ],
      "execution_count": 5,
      "outputs": [
        {
          "output_type": "execute_result",
          "data": {
            "text/plain": [
              "IT             306\n",
              "Marketing      241\n",
              "Education      187\n",
              "Accountancy     60\n",
              "Name: industry, dtype: int64"
            ]
          },
          "metadata": {},
          "execution_count": 5
        }
      ]
    },
    {
      "cell_type": "markdown",
      "metadata": {
        "id": "nFeHutU4EhD-"
      },
      "source": [
        "#Model pipeline"
      ]
    },
    {
      "cell_type": "code",
      "metadata": {
        "id": "57heC6W5Tf8h"
      },
      "source": [
        "from sklearn.svm import LinearSVC\n",
        "model = make_pipeline(TfidfVectorizer(), LinearSVC(class_weight=\"balanced\"))"
      ],
      "execution_count": 6,
      "outputs": []
    },
    {
      "cell_type": "code",
      "metadata": {
        "colab": {
          "base_uri": "https://localhost:8080/"
        },
        "id": "Sdo7kWe-TsJD",
        "outputId": "253201e2-c2f8-45f5-92d6-6a328844a27b"
      },
      "source": [
        "model.fit(X_train, y_train)\n",
        "labels = model.predict(X_test)\n",
        "print(model.score(y_test,labels))\n",
        "print(metrics.classification_report(y_test, labels))"
      ],
      "execution_count": 7,
      "outputs": [
        {
          "output_type": "stream",
          "name": "stdout",
          "text": [
            "0.8929471032745592\n",
            "              precision    recall  f1-score   support\n",
            "\n",
            " Accountancy       0.80      0.87      0.83        60\n",
            "   Education       0.95      0.89      0.92       187\n",
            "          IT       0.89      0.92      0.91       306\n",
            "   Marketing       0.88      0.86      0.87       241\n",
            "\n",
            "    accuracy                           0.89       794\n",
            "   macro avg       0.88      0.89      0.88       794\n",
            "weighted avg       0.89      0.89      0.89       794\n",
            "\n"
          ]
        }
      ]
    },
    {
      "cell_type": "markdown",
      "metadata": {
        "id": "8_y5J7Y4ElX2"
      },
      "source": [
        "#confusion_matrix"
      ]
    },
    {
      "cell_type": "code",
      "metadata": {
        "colab": {
          "base_uri": "https://localhost:8080/",
          "height": 346
        },
        "id": "bX_fIF8dTvCk",
        "outputId": "2f805bb8-5cbb-4a51-edff-9a0e3874f228"
      },
      "source": [
        "from sklearn.metrics import confusion_matrix\n",
        "mat = confusion_matrix(y_test, labels)\n",
        "sns.heatmap(mat.T, square=True, annot=True, fmt='d', cbar=False,\n",
        "            xticklabels=categories, yticklabels=categories)\n",
        "plt.xlabel('true label')\n",
        "plt.ylabel('predicted label');"
      ],
      "execution_count": 8,
      "outputs": [
        {
          "output_type": "display_data",
          "data": {
            "image/png": "[encoded data removed]",
            "text/plain": [
              "<Figure size 432x288 with 1 Axes>"
            ]
          },
          "metadata": {
            "needs_background": "light"
          }
        }
      ]
    },
    {
      "cell_type": "code",
      "metadata": {
        "colab": {
          "base_uri": "https://localhost:8080/"
        },
        "id": "CHzxLZNsVrVd",
        "outputId": "13076f64-8221-4623-db97-1212b7cd958d"
      },
      "source": [
        "model.predict([\"head of it services\"])\n"
      ],
      "execution_count": 9,
      "outputs": [
        {
          "output_type": "execute_result",
          "data": {
            "text/plain": [
              "array(['IT'], dtype=object)"
            ]
          },
          "metadata": {},
          "execution_count": 9
        }
      ]
    },
    {
      "cell_type": "markdown",
      "metadata": {
        "id": "hdBpwMmfEuSW"
      },
      "source": [
        "#make model .joblib to reuse it"
      ]
    },
    {
      "cell_type": "code",
      "metadata": {
        "colab": {
          "base_uri": "https://localhost:8080/"
        },
        "id": "3HXAD9Wq0EhL",
        "outputId": "49545154-b645-47d8-d0e8-e330c1a2a7cb"
      },
      "source": [
        "from joblib import dump,load\n",
        "dump(model,\"model.joblib\")"
      ],
      "execution_count": 10,
      "outputs": [
        {
          "output_type": "execute_result",
          "data": {
            "text/plain": [
              "['model.joblib']"
            ]
          },
          "metadata": {},
          "execution_count": 10
        }
      ]
    },
    {
      "cell_type": "code",
      "metadata": {
        "id": "qnRv3u4d0Zwg"
      },
      "source": [
        ""
      ],
      "execution_count": 10,
      "outputs": []
    }
  ]
}